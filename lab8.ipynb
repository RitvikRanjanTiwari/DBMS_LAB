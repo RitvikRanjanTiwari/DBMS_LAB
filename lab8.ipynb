{
 "cells": [
  {
   "cell_type": "code",
   "execution_count": 23,
   "metadata": {},
   "outputs": [
    {
     "name": "stdout",
     "output_type": "stream",
     "text": [
      "('dept_total_salary',)\n",
      "('faculty',)\n",
      "('facultyy',)\n",
      "('instructor',)\n",
      "('salary_total',)\n",
      "('teacher',)\n",
      "('teaches3',)\n",
      "('teaches33',)\n"
     ]
    }
   ],
   "source": [
    "import mysql.connector\n",
    "cnx=mysql.connector.connect(host='localhost',port=3306,user='root',password='',database='lab_assignment1')\n",
    "cursor=cnx.cursor(buffered=True)\n",
    "cursor.execute('SHOW TABLES')\n",
    "for x in cursor:\n",
    "    print(x)"
   ]
  },
  {
   "cell_type": "code",
   "execution_count": 3,
   "metadata": {},
   "outputs": [],
   "source": [
    "cursor.execute(\"CREATE FUNCTION calllc(jan int, feb int,mar int) RETURNS int(9) BEGIN DECLARE total int(9); SET total = jan+feb+mar; RETURN total; END;\")"
   ]
  },
  {
   "cell_type": "code",
   "execution_count": 4,
   "metadata": {},
   "outputs": [
    {
     "name": "stdout",
     "output_type": "stream",
     "text": [
      "[(38000,)]\n"
     ]
    }
   ],
   "source": [
    "query = \"\"\"set @x=calllc(%s,%s,%s)\"\"\"\n",
    "a=int(input())\n",
    "b=int(input())\n",
    "c=int(input())\n",
    "tuple1=(a,b,c)\n",
    "cursor.execute(query, tuple1)\n",
    "cursor.execute(\"select @x;\")\n",
    "r=cursor.fetchall()\n",
    "print(r)"
   ]
  },
  {
   "cell_type": "code",
   "execution_count": 7,
   "metadata": {},
   "outputs": [],
   "source": [
    "cursor.execute(\"ALTER TABLE instructor ADD age int(10) DEFAULT 42\")"
   ]
  },
  {
   "cell_type": "code",
   "execution_count": 8,
   "metadata": {},
   "outputs": [
    {
     "name": "stdout",
     "output_type": "stream",
     "text": [
      "(10101, 'Srinivasan', 'Comp. Sci.', 65000.0, 42)\n",
      "(32343, 'El Said', 'History', 60000.0, 42)\n",
      "(33456, 'Gold', 'Physics', 87000.0, 42)\n",
      "(45565, 'Katz', 'Comp. Sci.', 75000.0, 42)\n",
      "(58583, 'Califieri', 'History', 62000.0, 42)\n",
      "(76543, 'Singh', 'Finance', 80000.0, 42)\n",
      "(76766, 'Crick', 'Biology', 72000.0, 42)\n",
      "(83821, 'Brandt', 'Comp. Sci.', 92000.0, 42)\n",
      "(98345, 'Kim', 'Elec. Eng.', 80000.0, 42)\n",
      "(10101, 'Srinivasan', 'Comp. Sci.', 65000.0, 42)\n",
      "(12121, 'Wu', 'Finance', 90000.0, 42)\n",
      "(15151, 'Mozart', 'Music', 40000.0, 42)\n",
      "(1234, 'amndar', 'maths', 90000.0, 42)\n",
      "(10211, 'Smith', 'Biology', 66000.0, 42)\n"
     ]
    }
   ],
   "source": [
    "cursor.execute(\"select * from instructor\")\n",
    "myresult = cursor.fetchall()\n",
    "for x in myresult:\n",
    "    print(x)"
   ]
  },
  {
   "cell_type": "code",
   "execution_count": 12,
   "metadata": {},
   "outputs": [
    {
     "name": "stdout",
     "output_type": "stream",
     "text": [
      "4 Record inserted successfully into instructor table\n"
     ]
    }
   ],
   "source": [
    "mySql_insert_query = \"\"\"INSERT INTO instructor (Id, name, depname, salary , Age) \n",
    "                           VALUES (%s, %s, %s, %s,%s) \"\"\"\n",
    "records_to_insert = [('10101','Srinivasan','Comp. Sci.',65000, 34), \n",
    "                     ('12121','Wu','Finance',90000, 38),\n",
    "                     ('22222','Einstein','Physics',95000, 55),\n",
    "                    ('15151','Mozart','Music',40000, 45)]\n",
    "\n",
    "\n",
    "cursor.executemany(mySql_insert_query, records_to_insert)\n",
    "print(cursor.rowcount, \"Record inserted successfully into instructor table\")"
   ]
  },
  {
   "cell_type": "code",
   "execution_count": 13,
   "metadata": {},
   "outputs": [],
   "source": [
    "#declaring and defining function\n",
    "cursor.execute(\"set global log_bin_trust_function_creators = 1\")\n",
    "cursor.execute(\"create function isSabbatical (age int(10)) returns int begin declare result TINYINT; set result = age > 40; return result; end\")"
   ]
  },
  {
   "cell_type": "code",
   "execution_count": 16,
   "metadata": {},
   "outputs": [
    {
     "name": "stdout",
     "output_type": "stream",
     "text": [
      "Instructors who are eligible  for sabbatical\n",
      "('Srinivasan',)\n",
      "('El Said',)\n",
      "('Gold',)\n",
      "('Katz',)\n",
      "('Califieri',)\n",
      "('Singh',)\n",
      "('Crick',)\n",
      "('Brandt',)\n",
      "('Kim',)\n",
      "('Wu',)\n",
      "('Mozart',)\n",
      "('amndar',)\n",
      "('Smith',)\n",
      "('Einstein',)\n"
     ]
    }
   ],
   "source": [
    "# Print the name of all instructor who are eligible  for sabbatical\n",
    "cursor.execute(\"select Distinct(name) from instructor where isSabbatical(age ) = 1\")\n",
    "myresult = cursor.fetchall()\n",
    "print(\"Instructors who are eligible  for sabbatical\")\n",
    "for x in myresult:\n",
    "    print(x)"
   ]
  },
  {
   "cell_type": "code",
   "execution_count": 21,
   "metadata": {},
   "outputs": [],
   "source": [
    "cursor.execute(\"ALTER TABLE instructor ADD COLUMN exemptions double\")\n"
   ]
  },
  {
   "cell_type": "code",
   "execution_count": 22,
   "metadata": {},
   "outputs": [],
   "source": [
    "cursor.execute(\"ALTER TABLE instructor ADD COLUMN gross_salary double\")"
   ]
  },
  {
   "cell_type": "code",
   "execution_count": null,
   "metadata": {},
   "outputs": [],
   "source": []
  }
 ],
 "metadata": {
  "kernelspec": {
   "display_name": "Python 3.9.7 ('base')",
   "language": "python",
   "name": "python3"
  },
  "language_info": {
   "codemirror_mode": {
    "name": "ipython",
    "version": 3
   },
   "file_extension": ".py",
   "mimetype": "text/x-python",
   "name": "python",
   "nbconvert_exporter": "python",
   "pygments_lexer": "ipython3",
   "version": "3.9.7"
  },
  "orig_nbformat": 4,
  "vscode": {
   "interpreter": {
    "hash": "ad2bdc8ecc057115af97d19610ffacc2b4e99fae6737bb82f5d7fb13d2f2c186"
   }
  }
 },
 "nbformat": 4,
 "nbformat_minor": 2
}
